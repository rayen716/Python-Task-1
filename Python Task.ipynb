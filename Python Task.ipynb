{
 "cells": [
  {
   "cell_type": "code",
   "execution_count": null,
   "id": "a2df61da",
   "metadata": {},
   "outputs": [],
   "source": [
    "Q1. Create a function which will take a list as an argument and return the product of all the numbers after creating a flat list.\n",
    "Use the below-given list as an argument for your function.\n",
    "list1 = [1,2,3,4, [44,55,66, True], False, (34,56,78,89,34), {1,2,3,3,2,1}, {1:34, \"key2\": [55, 67, 78, 89], 4: (45,\n",
    "22, 61, 34)}, [56, 'data science'], 'Machine Learning']\n",
    "Ans1. def product_of_numbers(lst):\n",
    "    flat_lst = []\n",
    "    for item in lst:\n",
    "        if type(item) == list:\n",
    "            flat_lst.extend(item)\n",
    "        elif type(item) in [tuple, set]:\n",
    "            flat_lst.extend(list(item))\n",
    "        elif type(item) == dict:\n",
    "            flat_lst.extend(list(item.values()))\n",
    "            for val in item.values():\n",
    "                if type(val) == list:\n",
    "                    flat_lst.extend(val)\n",
    "                elif type(val) in [tuple, set]:\n",
    "                    flat_lst.extend(list(val))\n",
    "        else:\n",
    "            flat_lst.append(item)\n",
    "    numbers = [num for num in flat_lst if type(num) == int or type(num) == float]\n",
    "    product = 1\n",
    "    for num in numbers:\n",
    "        product *= num\n",
    "    return product\n",
    "\n",
    "list1 = [1,2,3,4, [44,55,66, True], False, (34,56,78,89,34), {1,2,3,3,2,1}, {1:34, \"key2\": [55, 67, 78, 89], 4: (45, 22, 61, 34)}, [56, 'data science'], 'Machine Learning']\n",
    "result = product_of_numbers(list1)\n",
    "print(result)\n",
    "\n"
   ]
  },
  {
   "cell_type": "code",
   "execution_count": 1,
   "id": "bacf6206",
   "metadata": {},
   "outputs": [
    {
     "name": "stdout",
     "output_type": "stream",
     "text": [
      "r$dzmg$gl$yvxlnv$z$wzgz$hxrvmgrhg.\n"
     ]
    }
   ],
   "source": [
    "Q2. Write a python program for encrypting a message sent to you by your friend. The logic of encryption should be such that, for a the output should be z. For b, the output should be y. For c, the output should be x respectively. Also, the whitespace should be replaced with a dollar sign. Keep the punctuation marks unchanged.\n",
    "Input Sentence: I want to become a Data Scientist.\n",
    "Encrypt the above input sentence using the program you just created.\n",
    "Note: Convert the given input sentence into lowercase before encrypting. The final output should be lowercase?\n",
    "Ans2. def encrypt_message(message):\n",
    "    encrypted = \"\"\n",
    "    for char in message:\n",
    "        if char.isalpha():\n",
    "            encrypted += chr(219 - ord(char))\n",
    "        elif char == \" \":\n",
    "            encrypted += \"$\"\n",
    "        else:\n",
    "            encrypted += char\n",
    "    return encrypted.lower()\n",
    "input_sentence = \"I want to become a Data Scientist.\"\n",
    "encrypted_sentence = encrypt_message(input_sentence.lower())\n",
    "print(encrypted_sentence)\n"
   ]
  },
  {
   "cell_type": "code",
   "execution_count": null,
   "id": "ed012e1c",
   "metadata": {},
   "outputs": [],
   "source": []
  }
 ],
 "metadata": {
  "kernelspec": {
   "display_name": "Python 3 (ipykernel)",
   "language": "python",
   "name": "python3"
  },
  "language_info": {
   "codemirror_mode": {
    "name": "ipython",
    "version": 3
   },
   "file_extension": ".py",
   "mimetype": "text/x-python",
   "name": "python",
   "nbconvert_exporter": "python",
   "pygments_lexer": "ipython3",
   "version": "3.9.13"
  }
 },
 "nbformat": 4,
 "nbformat_minor": 5
}
